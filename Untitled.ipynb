{
 "cells": [
  {
   "cell_type": "code",
   "execution_count": 1,
   "metadata": {},
   "outputs": [
    {
     "name": "stderr",
     "output_type": "stream",
     "text": [
      "Using TensorFlow backend.\n"
     ]
    }
   ],
   "source": [
    "from keras import backend as K\n",
    "from keras.objectives import categorical_crossentropy\n",
    "\n",
    "if K.image_dim_ordering() == 'tf':\n",
    "\timport tensorflow as tf\n",
    "\n",
    "lambda_rpn_regr = 1.0\n",
    "lambda_rpn_class = 1.0\n",
    "\n",
    "lambda_cls_regr = 1.0\n",
    "lambda_cls_class = 1.0\n"
   ]
  },
  {
   "cell_type": "code",
   "execution_count": 4,
   "metadata": {},
   "outputs": [],
   "source": [
    "def rpn_loss_regr(num_anchors):\n",
    "\tdef rpn_loss_regr_fixed_num(y_true, y_pred):\n",
    "\t\tif K.image_dim_ordering() == 'th':\n",
    "\t\t\tx = y_true[:, 4 * num_anchors:, :, :] - y_pred\n",
    "\t\t\tx_abs = K.abs(x)\n",
    "\t\t\tx_bool = K.less_equal(x_abs, 1.0)\n",
    "\t\t\treturn lambda_rpn_regr * K.sum(\n",
    "\t\t\t\ty_true[:, :4 * num_anchors, :, :] * (x_bool * (0.5 * x * x) + (1 - x_bool) * (x_abs - 0.5))) / K.sum(epsilon + y_true[:, :4 * num_anchors, :, :])\n",
    "\t\telse:\n",
    "\t\t\tx = y_true[:, :, :, 4 * num_anchors:] - y_pred\n",
    "\t\t\tx_abs = K.abs(x)\n",
    "\t\t\tx_bool = K.cast(K.less_equal(x_abs, 1.0), tf.float32)\n",
    "\n",
    "\t\t\treturn lambda_rpn_regr * K.sum(\n",
    "\t\t\t\ty_true[:, :, :, :4 * num_anchors] * (x_bool * (0.5 * x * x) + (1 - x_bool) * (x_abs - 0.5))) / K.sum(epsilon + y_true[:, :, :, :4 * num_anchors])\n",
    "\n",
    "\treturn rpn_loss_regr_fixed_num\n",
    "\n",
    "\n",
    "def rpn_loss_cls(num_anchors):\n",
    "\tdef rpn_loss_cls_fixed_num(y_true, y_pred):\n",
    "\t\tif K.image_dim_ordering() == 'tf':\n",
    "\t\t\treturn lambda_rpn_class * K.sum(y_true[:, :, :, :num_anchors] * K.binary_crossentropy(y_pred[:, :, :, :], y_true[:, :, :, num_anchors:])) / K.sum(epsilon + y_true[:, :, :, :num_anchors])\n",
    "\t\telse:\n",
    "\t\t\treturn lambda_rpn_class * K.sum(y_true[:, :num_anchors, :, :] * K.binary_crossentropy(y_pred[:, :, :, :], y_true[:, num_anchors:, :, :])) / K.sum(epsilon + y_true[:, :num_anchors, :, :])\n",
    "\n",
    "\treturn rpn_loss_cls_fixed_num\n",
    "\n",
    "\n",
    "def class_loss_regr(num_classes):\n",
    "\tdef class_loss_regr_fixed_num(y_true, y_pred):\n",
    "\t\tx = y_true[:, :, 4*num_classes:] - y_pred\n",
    "\t\tx_abs = K.abs(x)\n",
    "\t\tx_bool = K.cast(K.less_equal(x_abs, 1.0), 'float32')\n",
    "\t\treturn lambda_cls_regr * K.sum(y_true[:, :, :4*num_classes] * (x_bool * (0.5 * x * x) + (1 - x_bool) * (x_abs - 0.5))) / K.sum(epsilon + y_true[:, :, :4*num_classes])\n",
    "\treturn class_loss_regr_fixed_num\n",
    "\n",
    "\n",
    "def class_loss_cls(y_true, y_pred):\n",
    "\treturn lambda_cls_class * K.mean(categorical_crossentropy(y_true[0, :, :], y_pred[0, :, :]))\n"
   ]
  },
  {
   "cell_type": "code",
   "execution_count": 9,
   "metadata": {},
   "outputs": [],
   "source": [
    "loss=[rpn_loss_cls(9), rpn_loss_regr(9)]"
   ]
  },
  {
   "cell_type": "markdown",
   "metadata": {},
   "source": [
    "loss(4, 5)"
   ]
  },
  {
   "cell_type": "code",
   "execution_count": 14,
   "metadata": {},
   "outputs": [
    {
     "ename": "NameError",
     "evalue": "name 'loss_regr' is not defined",
     "output_type": "error",
     "traceback": [
      "\u001b[0;31m---------------------------------------------------------------------------\u001b[0m",
      "\u001b[0;31mNameError\u001b[0m                                 Traceback (most recent call last)",
      "\u001b[0;32m<ipython-input-14-e7b1fbe68a31>\u001b[0m in \u001b[0;36m<module>\u001b[0;34m\u001b[0m\n\u001b[0;32m----> 1\u001b[0;31m \u001b[0md\u001b[0m \u001b[0;34m=\u001b[0m \u001b[0mloss_regr\u001b[0m\u001b[0;34m(\u001b[0m\u001b[0;34m[\u001b[0m\u001b[0;36m5\u001b[0m\u001b[0;34m,\u001b[0m\u001b[0;36m3\u001b[0m\u001b[0;34m]\u001b[0m\u001b[0;34m,\u001b[0m \u001b[0;34m[\u001b[0m\u001b[0;36m5\u001b[0m\u001b[0;34m,\u001b[0m\u001b[0;36m4\u001b[0m\u001b[0;34m]\u001b[0m\u001b[0;34m)\u001b[0m\u001b[0;34m\u001b[0m\u001b[0;34m\u001b[0m\u001b[0m\n\u001b[0m",
      "\u001b[0;31mNameError\u001b[0m: name 'loss_regr' is not defined"
     ]
    }
   ],
   "source": [
    "d = loss_regr([5,3], [5,4])"
   ]
  },
  {
   "cell_type": "code",
   "execution_count": null,
   "metadata": {},
   "outputs": [],
   "source": []
  }
 ],
 "metadata": {
  "kernelspec": {
   "display_name": "Python 3",
   "language": "python",
   "name": "python3"
  },
  "language_info": {
   "codemirror_mode": {
    "name": "ipython",
    "version": 3
   },
   "file_extension": ".py",
   "mimetype": "text/x-python",
   "name": "python",
   "nbconvert_exporter": "python",
   "pygments_lexer": "ipython3",
   "version": "3.6.7"
  }
 },
 "nbformat": 4,
 "nbformat_minor": 2
}
